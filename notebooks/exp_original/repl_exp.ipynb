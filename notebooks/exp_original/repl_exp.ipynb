{
 "cells": [
  {
   "cell_type": "markdown",
   "metadata": {},
   "source": [
    "Train"
   ]
  },
  {
   "cell_type": "code",
   "execution_count": 6,
   "metadata": {},
   "outputs": [
    {
     "name": "stdout",
     "output_type": "stream",
     "text": [
      "Set random seed to 5\n",
      "{'PROCESSOR_NUM': 24, 'CLAUSE_NUM': 700, 'VARIABLE_NUM': 70, 'MIN_VARIABLE_NUM': 1, 'BATCH_SIZE': 1, 'CLAUSE_SIZE': 700, 'MIN_CLAUSE_NUM': 1, 'SR_GENERATOR': True}\n",
      "100%|███████████████████████████████████████| 5000/5000 [06:40<00:00, 12.48it/s]\n"
     ]
    }
   ],
   "source": [
    "!python ../../dump_dataset.py -o 5000 -c 70 -j 5"
   ]
  },
  {
   "cell_type": "markdown",
   "metadata": {},
   "source": [
    "Test"
   ]
  },
  {
   "cell_type": "code",
   "execution_count": 7,
   "metadata": {},
   "outputs": [
    {
     "name": "stdout",
     "output_type": "stream",
     "text": [
      "Set random seed to 6\n",
      "{'PROCESSOR_NUM': 24, 'CLAUSE_NUM': 700, 'VARIABLE_NUM': 70, 'MIN_VARIABLE_NUM': 1, 'BATCH_SIZE': 1, 'CLAUSE_SIZE': 700, 'MIN_CLAUSE_NUM': 1, 'SR_GENERATOR': True}\n",
      "100%|███████████████████████████████████████| 1000/1000 [01:20<00:00, 12.39it/s]\n"
     ]
    }
   ],
   "source": [
    "!python ../../dump_dataset.py -o 1000 -c 70 -j 6"
   ]
  },
  {
   "cell_type": "code",
   "execution_count": null,
   "metadata": {},
   "outputs": [],
   "source": [
    "!python ../../neurosat_tpu_tf2.py \\\n",
    "    --use_tpu=False \\\n",
    "    --train_file=sr_30/train_1_sr_30.tfrecord \\\n",
    "    --test_file=sr_30/test_2_sr_30.tfrecord \\\n",
    "    --train_steps=500 \\\n",
    "    --test_steps=80 \\\n",
    "    --model_dir=model_sr_30 \\\n",
    "    --export_dir=export_sr_30 \\\n",
    "    --variable_number=30 \\\n",
    "    --clause_number=300 \\\n",
    "    --train_files_gzipped=False \\\n",
    "    --batch_size=64 \\\n",
    "    --export_model \\\n",
    "    --attention=True"
   ]
  },
  {
   "cell_type": "code",
   "execution_count": null,
   "metadata": {},
   "outputs": [],
   "source": [
    "!python ../../neurosat_tpu_tf2.py \\\n",
    "    --use_tpu=False \\\n",
    "    --train_file=sr_50/train_3_sr_50.tfrecord \\\n",
    "    --test_file=sr_50/test_4_sr_50.tfrecord \\\n",
    "    --train_steps=500 \\\n",
    "    --test_steps=120 \\\n",
    "    --model_dir=model_sr_50 \\\n",
    "    --export_dir=export_sr_50 \\\n",
    "    --variable_number=50 \\\n",
    "    --clause_number=500 \\\n",
    "    --train_files_gzipped=False \\\n",
    "    --batch_size=64 \\\n",
    "    --export_model \\\n",
    "    --attention=True"
   ]
  },
  {
   "cell_type": "code",
   "execution_count": null,
   "metadata": {},
   "outputs": [],
   "source": [
    "!python ../../neurosat_tpu_tf2.py \\\n",
    "    --use_tpu=False \\\n",
    "    --train_file=sr_70/train_5_sr_70.tfrecord \\\n",
    "    --test_file=sr_70/test_6_sr_70.tfrecord \\\n",
    "    --train_steps=500 \\\n",
    "    --test_steps=120 \\\n",
    "    --model_dir=model_sr_70 \\\n",
    "    --export_dir=export_sr_70 \\\n",
    "    --variable_number=70 \\\n",
    "    --clause_number=700 \\\n",
    "    --train_files_gzipped=False \\\n",
    "    --batch_size=16 \\\n",
    "    --export_model \\\n",
    "    --attention=True"
   ]
  },
  {
   "cell_type": "code",
   "execution_count": null,
   "metadata": {},
   "outputs": [],
   "source": [
    "!python ../../neurosat_tpu_tf2.py \\\n",
    "    --use_tpu=False \\\n",
    "    --train_file=sr_100/train_7_sr_100.tfrecord \\\n",
    "    --test_file=sr_100/test_8_sr_100.tfrecord \\\n",
    "    --train_steps=500 \\\n",
    "    --test_steps=120 \\\n",
    "    --model_dir=model_sr_100 \\\n",
    "    --export_dir=export_sr_100 \\\n",
    "    --variable_number=100 \\\n",
    "    --clause_number=1000 \\\n",
    "    --train_files_gzipped=False \\\n",
    "    --batch_size=16 \\\n",
    "    --export_model \\\n",
    "    --attention=True"
   ]
  },
  {
   "cell_type": "code",
   "execution_count": null,
   "metadata": {},
   "outputs": [],
   "source": [
    "import pandas as pd\n",
    "import matplotlib.pyplot as plt\n",
    "import numpy as np\n",
    "\n",
    "# Datos ficticios para % de problemas resueltos\n",
    "data = {\n",
    "    'SR': [10, 20, 30, 40, 50, 70, 90, 110],\n",
    "    'DLIS': [100, 100, 100, 85, 80, 25, 10, 6],\n",
    "    'JW-OS': [100, 100, 100, 100, 100, 75, 30, 22],\n",
    "    'Model SR(30)': [100, 100, 100, 91, 87, 85, 68, 23],\n",
    "    'Model SR(50)': [100, 100, 100, 90, 86, 83, 65, 35],\n",
    "    'Model SR(70)': [100, 100, 100, 89, 85, 81, 60, 28],\n",
    "    'Model SR(100)': [100, 100, 100, 88, 84, 80, 55, 30]\n",
    "}\n",
    "\n",
    "steps = [10, 15, 20, 25, 30, 50, 70, 90]  # Baja al principio y sube al final\n",
    "\n",
    "# Crear DataFrame\n",
    "df = pd.DataFrame(data)\n",
    "\n",
    "# Configuración del gráfico\n",
    "fig, ax1 = plt.subplots(figsize=(10, 6))\n",
    "\n",
    "# Graficar las barras\n",
    "df.set_index('SR').plot(kind='bar', ax=ax1, width=0.8)\n",
    "ax1.set_xlabel('SR')\n",
    "ax1.set_ylabel('% problems solved')\n",
    "\n",
    "# Crear un segundo eje y para los pasos\n",
    "ax2 = ax1.twinx()\n",
    "ax2.plot(df['SR'], steps, color='black', marker='o', linestyle='-', linewidth=2, label='Avg. Steps')\n",
    "ax2.set_ylabel('Avg. Steps')\n",
    "\n",
    "# Añadir leyenda\n",
    "ax1.legend(loc='upper left', bbox_to_anchor=(1.05, 1), borderaxespad=0.)\n",
    "ax2.legend(loc='upper left', bbox_to_anchor=(1.05, 0.9), borderaxespad=0.)\n",
    "\n",
    "# Mostrar el gráfico\n",
    "plt.title('Percentage of Problems Solved and Average Steps')\n",
    "plt.show()\n"
   ]
  }
 ],
 "metadata": {
  "kernelspec": {
   "display_name": "neuralgnnenv",
   "language": "python",
   "name": "python3"
  },
  "language_info": {
   "codemirror_mode": {
    "name": "ipython",
    "version": 3
   },
   "file_extension": ".py",
   "mimetype": "text/x-python",
   "name": "python",
   "nbconvert_exporter": "python",
   "pygments_lexer": "ipython3",
   "version": "3.9.19"
  }
 },
 "nbformat": 4,
 "nbformat_minor": 2
}
