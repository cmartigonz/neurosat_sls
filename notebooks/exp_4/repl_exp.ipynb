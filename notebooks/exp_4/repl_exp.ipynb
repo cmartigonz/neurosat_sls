{
 "cells": [
  {
   "cell_type": "markdown",
   "metadata": {},
   "source": [
    "Train"
   ]
  },
  {
   "cell_type": "code",
   "execution_count": 8,
   "metadata": {},
   "outputs": [
    {
     "name": "stdout",
     "output_type": "stream",
     "text": [
      "Set random seed to 7\n",
      "100%|███████████████████████████████████████| 5000/5000 [10:46<00:00,  7.73it/s]\n"
     ]
    }
   ],
   "source": [
    "!python ../../dump_dataset.py -o 5000 -c 100 -j 7"
   ]
  },
  {
   "cell_type": "markdown",
   "metadata": {},
   "source": [
    "Test"
   ]
  },
  {
   "cell_type": "code",
   "execution_count": 9,
   "metadata": {},
   "outputs": [
    {
     "name": "stdout",
     "output_type": "stream",
     "text": [
      "Set random seed to 8\n",
      "100%|███████████████████████████████████████| 1000/1000 [02:09<00:00,  7.73it/s]\n"
     ]
    }
   ],
   "source": [
    "!python ../../dump_dataset.py -o 1000 -c 100 -j 8"
   ]
  },
  {
   "cell_type": "code",
   "execution_count": null,
   "metadata": {},
   "outputs": [],
   "source": [
    "!python ../../neurosat_tpu_tf2.py \\\n",
    "    --use_tpu=False \\\n",
    "    --train_file=sr_30/train_1_sr_30.tfrecord \\\n",
    "    --test_file=sr_30/test_2_sr_30.tfrecord \\\n",
    "    --train_steps=5000 \\\n",
    "    --test_steps=250 \\\n",
    "    --model_dir=model_sr_30 \\\n",
    "    --export_dir=export_sr_30 \\\n",
    "    --variable_number=30 \\\n",
    "    --clause_number=90 \\\n",
    "    --train_files_gzipped=False \\\n",
    "    --batch_size=64 \\\n",
    "    --export_model \\\n",
    "    --attention=True"
   ]
  },
  {
   "cell_type": "code",
   "execution_count": null,
   "metadata": {},
   "outputs": [],
   "source": [
    "!python ../../neurosat_tpu_tf2.py \\\n",
    "    --use_tpu=False \\\n",
    "    --train_file=sr_50/train_3_sr_50.tfrecord \\\n",
    "    --test_file=sr_50/test_4_sr_50.tfrecord \\\n",
    "    --train_steps=5000 \\\n",
    "    --test_steps=250 \\\n",
    "    --model_dir=model_sr_50 \\\n",
    "    --export_dir=export_sr_50 \\\n",
    "    --variable_number=50 \\\n",
    "    --clause_number=150 \\\n",
    "    --train_files_gzipped=False \\\n",
    "    --batch_size=64 \\\n",
    "    --export_model \\\n",
    "    --attention=True"
   ]
  },
  {
   "cell_type": "code",
   "execution_count": null,
   "metadata": {},
   "outputs": [],
   "source": [
    "!python ../../neurosat_tpu_tf2.py \\\n",
    "    --use_tpu=False \\\n",
    "    --train_file=sr_70/train_5_sr_70.tfrecord \\\n",
    "    --test_file=sr_70/test_6_sr_70.tfrecord \\\n",
    "    --train_steps=5000 \\\n",
    "    --test_steps=250 \\\n",
    "    --model_dir=model_sr_70 \\\n",
    "    --export_dir=export_sr_70 \\\n",
    "    --variable_number=70 \\\n",
    "    --clause_number=210 \\\n",
    "    --train_files_gzipped=False \\\n",
    "    --batch_size=32 \\\n",
    "    --export_model \\\n",
    "    --attention=True"
   ]
  },
  {
   "cell_type": "code",
   "execution_count": null,
   "metadata": {},
   "outputs": [],
   "source": [
    "!python ../../neurosat_tpu_tf2.py \\\n",
    "    --use_tpu=False \\\n",
    "    --train_file=sr_100/train_7_sr_100.tfrecord \\\n",
    "    --test_file=sr_100/test_8_sr_100.tfrecord \\\n",
    "    --train_steps=5000 \\\n",
    "    --test_steps=250 \\\n",
    "    --model_dir=model_sr_100 \\\n",
    "    --export_dir=export_sr_100 \\\n",
    "    --variable_number=100 \\\n",
    "    --clause_number=300 \\\n",
    "    --train_files_gzipped=False \\\n",
    "    --batch_size=16 \\\n",
    "    --export_model \\\n",
    "    --attention=True"
   ]
  }
 ],
 "metadata": {
  "kernelspec": {
   "display_name": "neuralgnnenv",
   "language": "python",
   "name": "python3"
  },
  "language_info": {
   "codemirror_mode": {
    "name": "ipython",
    "version": 3
   },
   "file_extension": ".py",
   "mimetype": "text/x-python",
   "name": "python",
   "nbconvert_exporter": "python",
   "pygments_lexer": "ipython3",
   "version": "3.9.19"
  }
 },
 "nbformat": 4,
 "nbformat_minor": 2
}
